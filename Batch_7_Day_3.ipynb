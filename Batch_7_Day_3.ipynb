{
 "cells": [
  {
   "cell_type": "markdown",
   "metadata": {},
   "source": [
    "# Assignment Day 3 Question 1"
   ]
  },
  {
   "cell_type": "code",
   "execution_count": 1,
   "metadata": {},
   "outputs": [
    {
     "name": "stdout",
     "output_type": "stream",
     "text": [
      "Enter Altitude: 1000\n",
      "You are Safe!\n"
     ]
    }
   ],
   "source": [
    "num1=input(\"Enter Altitude: \")\n",
    "num= float(num1)\n",
    "if num == 1000:\n",
    "    print(\"You are Safe!\")\n",
    "elif num < 5000:\n",
    "    print(\"Bring down to 1000\")\n",
    "elif num > 5000:\n",
    "    print(\"Turn Arround\")\n"
   ]
  },
  {
   "cell_type": "code",
   "execution_count": 2,
   "metadata": {},
   "outputs": [
    {
     "name": "stdout",
     "output_type": "stream",
     "text": [
      "Enter Altitude: 4500\n",
      "Bring down to 1000\n"
     ]
    }
   ],
   "source": [
    "num1=input(\"Enter Altitude: \")\n",
    "num= float(num1)\n",
    "if num == 1000:\n",
    "    print(\"You are Safe!\")\n",
    "elif num < 5000:\n",
    "    print(\"Bring down to 1000\")\n",
    "elif num > 5000:\n",
    "    print(\"Turn Arround\")"
   ]
  },
  {
   "cell_type": "code",
   "execution_count": 3,
   "metadata": {},
   "outputs": [
    {
     "name": "stdout",
     "output_type": "stream",
     "text": [
      "Enter Altitude: 6500\n",
      "Turn Arround\n"
     ]
    }
   ],
   "source": [
    "num1=input(\"Enter Altitude: \")\n",
    "num= float(num1)\n",
    "if num == 1000:\n",
    "    print(\"You are Safe!\")\n",
    "elif num < 5000:\n",
    "    print(\"Bring down to 1000\")\n",
    "elif num > 5000:\n",
    "    print(\"Turn Arround\")"
   ]
  },
  {
   "cell_type": "markdown",
   "metadata": {},
   "source": [
    "# Assignment Day 3 Question 2"
   ]
  },
  {
   "cell_type": "code",
   "execution_count": 4,
   "metadata": {},
   "outputs": [
    {
     "name": "stdout",
     "output_type": "stream",
     "text": [
      "Prime numbers: \n",
      "2\n",
      "3\n",
      "5\n",
      "7\n",
      "11\n",
      "13\n",
      "17\n",
      "19\n",
      "23\n",
      "29\n",
      "31\n",
      "37\n",
      "41\n",
      "43\n",
      "47\n",
      "53\n",
      "59\n",
      "61\n",
      "67\n",
      "71\n",
      "73\n",
      "79\n",
      "83\n",
      "89\n",
      "97\n",
      "101\n",
      "103\n",
      "107\n",
      "109\n",
      "113\n",
      "127\n",
      "131\n",
      "137\n",
      "139\n",
      "149\n",
      "151\n",
      "157\n",
      "163\n",
      "167\n",
      "173\n",
      "179\n",
      "181\n",
      "191\n",
      "193\n",
      "197\n",
      "199\n"
     ]
    }
   ],
   "source": [
    "lower_num = 1\n",
    "upper_num = 200\n",
    "print(\"Prime numbers: \")\n",
    "for number in range(lower_num, upper_num + 1):\n",
    "   if number > 1:\n",
    "       for i in range(2, number):\n",
    "           if (number % i) == 0:\n",
    "               break\n",
    "       else:\n",
    "           print(number)\n"
   ]
  },
  {
   "cell_type": "markdown",
   "metadata": {},
   "source": [
    "# Assignment Day 2 Questions 3"
   ]
  },
  {
   "cell_type": "code",
   "execution_count": null,
   "metadata": {},
   "outputs": [
    {
     "name": "stdout",
     "output_type": "stream",
     "text": [
      "1741725\n",
      "4210818\n",
      "9800817\n",
      "9926315\n"
     ]
    }
   ],
   "source": [
    "lower = 1042000\n",
    "upper = 702648265\n",
    "\n",
    "for num in range(lower, upper + 1):\n",
    "   order = len(str(num))\n",
    "   sum = 0\n",
    "   temp = num\n",
    "   while temp > 0:\n",
    "       digit = temp % 10\n",
    "       sum += digit ** order\n",
    "       temp //= 10\n",
    "   if num == sum:\n",
    "       print(num)\n"
   ]
  },
  {
   "cell_type": "code",
   "execution_count": null,
   "metadata": {},
   "outputs": [],
   "source": []
  }
 ],
 "metadata": {
  "kernelspec": {
   "display_name": "Python 3",
   "language": "python",
   "name": "python3"
  },
  "language_info": {
   "codemirror_mode": {
    "name": "ipython",
    "version": 3
   },
   "file_extension": ".py",
   "mimetype": "text/x-python",
   "name": "python",
   "nbconvert_exporter": "python",
   "pygments_lexer": "ipython3",
   "version": "3.7.6"
  }
 },
 "nbformat": 4,
 "nbformat_minor": 4
}
